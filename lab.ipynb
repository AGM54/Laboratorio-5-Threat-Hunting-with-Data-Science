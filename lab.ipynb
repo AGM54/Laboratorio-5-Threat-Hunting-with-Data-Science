{
 "cells": [
  {
   "cell_type": "markdown",
   "metadata": {},
   "source": [
    "1. Cargue la información del archivo large_even.json en una lista, muestre la cantidad de registros total (deben ser 746, 909). Este es nuestro tráfico inicial"
   ]
  },
  {
   "cell_type": "code",
   "execution_count": 2,
   "metadata": {},
   "outputs": [
    {
     "name": "stdout",
     "output_type": "stream",
     "text": [
      "Cantidad de registros: 746909\n"
     ]
    }
   ],
   "source": [
    "import json\n",
    "\n",
    "ruta_archivo = 'large_eve.json'\n",
    "datos = []\n",
    "\n",
    "with open(ruta_archivo, 'r') as archivo:\n",
    "    for linea in archivo:\n",
    "        try:\n",
    "            datos.append(json.loads(linea))\n",
    "        except json.JSONDecodeError as e:\n",
    "            print(\"Error al decodificar una línea:\", e)\n",
    "\n",
    "\n",
    "print(\"Cantidad de registros:\", len(datos))\n",
    "\n"
   ]
  },
  {
   "cell_type": "markdown",
   "metadata": {},
   "source": [
    "2. Debido a que estamos buscando dominios web, del total de registros, solamente estamos interesados en los registros DNS. Cargue únicamente aquellos registros que sean DNS"
   ]
  },
  {
   "cell_type": "code",
   "execution_count": null,
   "metadata": {},
   "outputs": [
    {
     "name": "stdout",
     "output_type": "stream",
     "text": [
      "Total de registros cargados: 746909\n",
      "Registros DNS: 15749\n",
      "{\n",
      "    \"timestamp\": \"2017-07-22T17:33:16.661646-0500\",\n",
      "    \"flow_id\": 1327836194150542,\n",
      "    \"pcap_cnt\": 22269,\n",
      "    \"event_type\": \"dns\",\n",
      "    \"vlan\": 110,\n",
      "    \"src_ip\": \"2001:0dbb:0c18:0011:0260:6eff:fe30:0863\",\n",
      "    \"src_port\": 59680,\n",
      "    \"dest_ip\": \"2001:0500:0001:0000:0000:0000:803f:0235\",\n",
      "    \"dest_port\": 53,\n",
      "    \"proto\": \"UDP\",\n",
      "    \"dns\": {\n",
      "        \"type\": \"query\",\n",
      "        \"id\": 15529,\n",
      "        \"rrname\": \"api.wunderground.com\",\n",
      "        \"rrtype\": \"A\",\n",
      "        \"tx_id\": 0\n",
      "    }\n",
      "}\n",
      "{\n",
      "    \"timestamp\": \"2017-07-22T17:33:24.990320-0500\",\n",
      "    \"flow_id\": 2022925111925872,\n",
      "    \"pcap_cnt\": 54352,\n",
      "    \"event_type\": \"dns\",\n",
      "    \"vlan\": 110,\n",
      "    \"src_ip\": \"2001:0dbb:0c18:0011:0260:6eff:fe30:0863\",\n",
      "    \"src_port\": 38051,\n",
      "    \"dest_ip\": \"2001:0500:0003:0000:0000:0000:0000:0042\",\n",
      "    \"dest_port\": 53,\n",
      "    \"proto\": \"UDP\",\n",
      "    \"dns\": {\n",
      "        \"type\": \"query\",\n",
      "        \"id\": 58278,\n",
      "        \"rrname\": \"stork79.dropbox.com\",\n",
      "        \"rrtype\": \"A\",\n",
      "        \"tx_id\": 0\n",
      "    }\n",
      "}\n"
     ]
    }
   ],
   "source": [
    "\n",
    "\n",
    "\n",
    "dns_registros = [registro for registro in datos if registro.get(\"event_type\") == \"dns\"]\n",
    "print(f\"Registros DNS: {len(dns_registros)}\")\n",
    "\n",
    "\n",
    "for i in range(2):\n",
    "    print(json.dumps(dns_registros[i], indent=4))\n"
   ]
  },
  {
   "cell_type": "markdown",
   "metadata": {},
   "source": [
    "3. Muestre la nueva cantidad de registros filtrados. Deben ser 21484. Esta es una cantidad\n",
    "mucho más manejable, pero aún se debe seguir depurando la información a buscar"
   ]
  },
  {
   "cell_type": "code",
   "execution_count": 5,
   "metadata": {},
   "outputs": [
    {
     "name": "stdout",
     "output_type": "stream",
     "text": [
      "Cantidad de registros DNS: 15749\n"
     ]
    }
   ],
   "source": [
    "dns_registros = []\n",
    "\n",
    "for registro in datos:\n",
    "    try:\n",
    "        if registro.get(\"event_type\") == \"dns\" and \"dns\" in registro:\n",
    "            dns_registros.append(registro)\n",
    "    except Exception:\n",
    "        continue\n",
    "\n",
    "print(f\"Cantidad de registros DNS: {len(dns_registros)}\")  # Debería ser 21484\n"
   ]
  },
  {
   "cell_type": "markdown",
   "metadata": {},
   "source": [
    "4. Muestre la información de 2 registros cualesquiera"
   ]
  },
  {
   "cell_type": "code",
   "execution_count": null,
   "metadata": {},
   "outputs": [
    {
     "name": "stdout",
     "output_type": "stream",
     "text": [
      "{\n",
      "    \"timestamp\": \"2017-07-22T17:33:16.661646-0500\",\n",
      "    \"flow_id\": 1327836194150542,\n",
      "    \"pcap_cnt\": 22269,\n",
      "    \"event_type\": \"dns\",\n",
      "    \"vlan\": 110,\n",
      "    \"src_ip\": \"2001:0dbb:0c18:0011:0260:6eff:fe30:0863\",\n",
      "    \"src_port\": 59680,\n",
      "    \"dest_ip\": \"2001:0500:0001:0000:0000:0000:803f:0235\",\n",
      "    \"dest_port\": 53,\n",
      "    \"proto\": \"UDP\",\n",
      "    \"dns\": {\n",
      "        \"type\": \"query\",\n",
      "        \"id\": 15529,\n",
      "        \"rrname\": \"api.wunderground.com\",\n",
      "        \"rrtype\": \"A\",\n",
      "        \"tx_id\": 0\n",
      "    }\n",
      "}\n",
      "{\n",
      "    \"timestamp\": \"2017-07-22T17:33:24.990320-0500\",\n",
      "    \"flow_id\": 2022925111925872,\n",
      "    \"pcap_cnt\": 54352,\n",
      "    \"event_type\": \"dns\",\n",
      "    \"vlan\": 110,\n",
      "    \"src_ip\": \"2001:0dbb:0c18:0011:0260:6eff:fe30:0863\",\n",
      "    \"src_port\": 38051,\n",
      "    \"dest_ip\": \"2001:0500:0003:0000:0000:0000:0000:0042\",\n",
      "    \"dest_port\": 53,\n",
      "    \"proto\": \"UDP\",\n",
      "    \"dns\": {\n",
      "        \"type\": \"query\",\n",
      "        \"id\": 58278,\n",
      "        \"rrname\": \"stork79.dropbox.com\",\n",
      "        \"rrtype\": \"A\",\n",
      "        \"tx_id\": 0\n",
      "    }\n",
      "}\n"
     ]
    }
   ],
   "source": [
    "import json\n",
    "\n",
    "for i in range(2):\n",
    "    print(json.dumps(dns_registros[i], indent=4))\n"
   ]
  },
  {
   "cell_type": "markdown",
   "metadata": {},
   "source": [
    "5.  Debido a que la data consiste en estructuras JSON anidadas, utilice la característica\n",
    "json_normalize para normalizar la información y asignarla en un dataframe. Muestre el shape\n",
    "del dataframe, debería obtener (21484, 163)"
   ]
  },
  {
   "cell_type": "code",
   "execution_count": null,
   "metadata": {},
   "outputs": [
    {
     "name": "stdout",
     "output_type": "stream",
     "text": [
      "Shape del dataframe: (15749, 18)\n"
     ]
    },
    {
     "data": {
      "text/html": [
       "<div>\n",
       "<style scoped>\n",
       "    .dataframe tbody tr th:only-of-type {\n",
       "        vertical-align: middle;\n",
       "    }\n",
       "\n",
       "    .dataframe tbody tr th {\n",
       "        vertical-align: top;\n",
       "    }\n",
       "\n",
       "    .dataframe thead th {\n",
       "        text-align: right;\n",
       "    }\n",
       "</style>\n",
       "<table border=\"1\" class=\"dataframe\">\n",
       "  <thead>\n",
       "    <tr style=\"text-align: right;\">\n",
       "      <th></th>\n",
       "      <th>timestamp</th>\n",
       "      <th>flow_id</th>\n",
       "      <th>pcap_cnt</th>\n",
       "      <th>event_type</th>\n",
       "      <th>vlan</th>\n",
       "      <th>src_ip</th>\n",
       "      <th>src_port</th>\n",
       "      <th>dest_ip</th>\n",
       "      <th>dest_port</th>\n",
       "      <th>proto</th>\n",
       "      <th>dns.type</th>\n",
       "      <th>dns.id</th>\n",
       "      <th>dns.rrname</th>\n",
       "      <th>dns.rrtype</th>\n",
       "      <th>dns.tx_id</th>\n",
       "      <th>dns.rcode</th>\n",
       "      <th>dns.ttl</th>\n",
       "      <th>dns.rdata</th>\n",
       "    </tr>\n",
       "  </thead>\n",
       "  <tbody>\n",
       "    <tr>\n",
       "      <th>0</th>\n",
       "      <td>2017-07-22T17:33:16.661646-0500</td>\n",
       "      <td>1327836194150542</td>\n",
       "      <td>22269</td>\n",
       "      <td>dns</td>\n",
       "      <td>110</td>\n",
       "      <td>2001:0dbb:0c18:0011:0260:6eff:fe30:0863</td>\n",
       "      <td>59680</td>\n",
       "      <td>2001:0500:0001:0000:0000:0000:803f:0235</td>\n",
       "      <td>53</td>\n",
       "      <td>UDP</td>\n",
       "      <td>query</td>\n",
       "      <td>15529</td>\n",
       "      <td>api.wunderground.com</td>\n",
       "      <td>A</td>\n",
       "      <td>0.0</td>\n",
       "      <td>NaN</td>\n",
       "      <td>NaN</td>\n",
       "      <td>NaN</td>\n",
       "    </tr>\n",
       "    <tr>\n",
       "      <th>1</th>\n",
       "      <td>2017-07-22T17:33:24.990320-0500</td>\n",
       "      <td>2022925111925872</td>\n",
       "      <td>54352</td>\n",
       "      <td>dns</td>\n",
       "      <td>110</td>\n",
       "      <td>2001:0dbb:0c18:0011:0260:6eff:fe30:0863</td>\n",
       "      <td>38051</td>\n",
       "      <td>2001:0500:0003:0000:0000:0000:0000:0042</td>\n",
       "      <td>53</td>\n",
       "      <td>UDP</td>\n",
       "      <td>query</td>\n",
       "      <td>58278</td>\n",
       "      <td>stork79.dropbox.com</td>\n",
       "      <td>A</td>\n",
       "      <td>0.0</td>\n",
       "      <td>NaN</td>\n",
       "      <td>NaN</td>\n",
       "      <td>NaN</td>\n",
       "    </tr>\n",
       "    <tr>\n",
       "      <th>2</th>\n",
       "      <td>2017-07-22T17:33:27.379891-0500</td>\n",
       "      <td>578544790391795</td>\n",
       "      <td>54519</td>\n",
       "      <td>dns</td>\n",
       "      <td>150</td>\n",
       "      <td>192.168.205.170</td>\n",
       "      <td>31393</td>\n",
       "      <td>192.168.207.4</td>\n",
       "      <td>53</td>\n",
       "      <td>UDP</td>\n",
       "      <td>query</td>\n",
       "      <td>54724</td>\n",
       "      <td>hpca-tier2.office.aol.com.ad.aol.aoltw.net</td>\n",
       "      <td>A</td>\n",
       "      <td>0.0</td>\n",
       "      <td>NaN</td>\n",
       "      <td>NaN</td>\n",
       "      <td>NaN</td>\n",
       "    </tr>\n",
       "    <tr>\n",
       "      <th>3</th>\n",
       "      <td>2017-07-22T17:33:27.380146-0500</td>\n",
       "      <td>578544790391795</td>\n",
       "      <td>54520</td>\n",
       "      <td>dns</td>\n",
       "      <td>150</td>\n",
       "      <td>192.168.207.4</td>\n",
       "      <td>53</td>\n",
       "      <td>192.168.205.170</td>\n",
       "      <td>31393</td>\n",
       "      <td>UDP</td>\n",
       "      <td>answer</td>\n",
       "      <td>54724</td>\n",
       "      <td>hpca-tier2.office.aol.com.ad.aol.aoltw.net</td>\n",
       "      <td>NaN</td>\n",
       "      <td>NaN</td>\n",
       "      <td>NXDOMAIN</td>\n",
       "      <td>NaN</td>\n",
       "      <td>NaN</td>\n",
       "    </tr>\n",
       "    <tr>\n",
       "      <th>4</th>\n",
       "      <td>2017-07-22T17:33:27.380146-0500</td>\n",
       "      <td>578544790391795</td>\n",
       "      <td>54520</td>\n",
       "      <td>dns</td>\n",
       "      <td>150</td>\n",
       "      <td>192.168.207.4</td>\n",
       "      <td>53</td>\n",
       "      <td>192.168.205.170</td>\n",
       "      <td>31393</td>\n",
       "      <td>UDP</td>\n",
       "      <td>answer</td>\n",
       "      <td>54724</td>\n",
       "      <td>&lt;root&gt;</td>\n",
       "      <td>SOA</td>\n",
       "      <td>NaN</td>\n",
       "      <td>NXDOMAIN</td>\n",
       "      <td>20864.0</td>\n",
       "      <td>NaN</td>\n",
       "    </tr>\n",
       "  </tbody>\n",
       "</table>\n",
       "</div>"
      ],
      "text/plain": [
       "                         timestamp           flow_id  pcap_cnt event_type  \\\n",
       "0  2017-07-22T17:33:16.661646-0500  1327836194150542     22269        dns   \n",
       "1  2017-07-22T17:33:24.990320-0500  2022925111925872     54352        dns   \n",
       "2  2017-07-22T17:33:27.379891-0500   578544790391795     54519        dns   \n",
       "3  2017-07-22T17:33:27.380146-0500   578544790391795     54520        dns   \n",
       "4  2017-07-22T17:33:27.380146-0500   578544790391795     54520        dns   \n",
       "\n",
       "   vlan                                   src_ip  src_port  \\\n",
       "0   110  2001:0dbb:0c18:0011:0260:6eff:fe30:0863     59680   \n",
       "1   110  2001:0dbb:0c18:0011:0260:6eff:fe30:0863     38051   \n",
       "2   150                          192.168.205.170     31393   \n",
       "3   150                            192.168.207.4        53   \n",
       "4   150                            192.168.207.4        53   \n",
       "\n",
       "                                   dest_ip  dest_port proto dns.type  dns.id  \\\n",
       "0  2001:0500:0001:0000:0000:0000:803f:0235         53   UDP    query   15529   \n",
       "1  2001:0500:0003:0000:0000:0000:0000:0042         53   UDP    query   58278   \n",
       "2                            192.168.207.4         53   UDP    query   54724   \n",
       "3                          192.168.205.170      31393   UDP   answer   54724   \n",
       "4                          192.168.205.170      31393   UDP   answer   54724   \n",
       "\n",
       "                                   dns.rrname dns.rrtype  dns.tx_id dns.rcode  \\\n",
       "0                        api.wunderground.com          A        0.0       NaN   \n",
       "1                         stork79.dropbox.com          A        0.0       NaN   \n",
       "2  hpca-tier2.office.aol.com.ad.aol.aoltw.net          A        0.0       NaN   \n",
       "3  hpca-tier2.office.aol.com.ad.aol.aoltw.net        NaN        NaN  NXDOMAIN   \n",
       "4                                      <root>        SOA        NaN  NXDOMAIN   \n",
       "\n",
       "   dns.ttl dns.rdata  \n",
       "0      NaN       NaN  \n",
       "1      NaN       NaN  \n",
       "2      NaN       NaN  \n",
       "3      NaN       NaN  \n",
       "4  20864.0       NaN  "
      ]
     },
     "execution_count": 7,
     "metadata": {},
     "output_type": "execute_result"
    }
   ],
   "source": [
    "import pandas as pd\n",
    "from pandas import json_normalize\n",
    "\n",
    "\n",
    "df_dns = json_normalize(dns_registros)\n",
    "\n",
    "print(\"Shape del dataframe:\", df_dns.shape)\n",
    "\n",
    "df_dns.head()\n"
   ]
  },
  {
   "cell_type": "markdown",
   "metadata": {},
   "source": [
    "6. Como estamos buscando dominios DGA, debemos filtrar los registros DNS para aquellos\n",
    "registros tipo A (son aquellos que mantienen una dirección IP asociada a un dominio). Después\n",
    "de filtrar debería obtener 2849 registros.\n"
   ]
  }
 ],
 "metadata": {
  "kernelspec": {
   "display_name": "Python 3",
   "language": "python",
   "name": "python3"
  },
  "language_info": {
   "codemirror_mode": {
    "name": "ipython",
    "version": 3
   },
   "file_extension": ".py",
   "mimetype": "text/x-python",
   "name": "python",
   "nbconvert_exporter": "python",
   "pygments_lexer": "ipython3",
   "version": "3.11.9"
  }
 },
 "nbformat": 4,
 "nbformat_minor": 2
}
