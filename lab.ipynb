{
 "cells": [
  {
   "cell_type": "markdown",
   "metadata": {},
   "source": [
    "1. Cargue la información del archivo large_even.json en una lista, muestre la cantidad de registros total (deben ser 746, 909). Este es nuestro tráfico inicial"
   ]
  },
  {
   "cell_type": "code",
   "execution_count": null,
   "metadata": {},
   "outputs": [],
   "source": [
    "import json\n",
    "\n",
    "\n",
    "ruta_archivo = 'large_eve.json'\n",
    "\n",
    "with open(ruta_archivo, 'r') as archivo:\n",
    "    datos = json.load(archivo)\n",
    "print(\"Cantidad de registros:\", len(datos))\n"
   ]
  }
 ],
 "metadata": {
  "language_info": {
   "name": "python"
  }
 },
 "nbformat": 4,
 "nbformat_minor": 2
}
